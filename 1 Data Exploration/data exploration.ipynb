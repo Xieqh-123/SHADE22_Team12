{
 "cells": [
  {
   "cell_type": "markdown",
   "id": "75b5b381",
   "metadata": {},
   "source": [
    "## Load data files"
   ]
  },
  {
   "cell_type": "code",
   "execution_count": 2,
   "id": "d3597eb1",
   "metadata": {},
   "outputs": [],
   "source": [
    "import pandas as pd\n",
    "import numpy as np\n",
    "import math\n",
    "\n",
    "df_cohort = pd.read_csv('data/crrt_patients_cohort_final.csv')\n",
    "df_demo = pd.read_csv('data/demographics_final.csv')\n",
    "df_vital = pd.read_csv('data/vital_signs_final.csv')\n",
    "df_lab_before = pd.read_csv('data/lab_results_before_avg.csv')\n",
    "df_vasopressor_before = pd.read_csv('data/vasopressor_before.csv')\n",
    "\n",
    "race_map = {\n",
    "    'UNKNOWN': 'UNKNOWN',\n",
    "    'PATIENT DECLINED TO ANSWER': 'UNKNOWN',\n",
    "    'UNABLE TO OBTAIN': 'UNKNOWN',\n",
    "\n",
    "    'WHITE': 'WHITE',\n",
    "    'WHITE - EASTERN EUROPEAN': 'WHITE',\n",
    "    'WHITE - BRAZILIAN': 'WHITE',\n",
    "    'WHITE - OTHER EUROPEAN': 'WHITE', \n",
    "    'WHITE - RUSSIAN': 'WHITE',\n",
    "\n",
    "    'BLACK/AFRICAN AMERICAN': 'BLACK',\n",
    "    'BLACK/AFRICAN': 'BLACK',\n",
    "    'BLACK/CAPE VERDEAN': 'BLACK',\n",
    "    'BLACK/CARIBBEAN ISLAND': 'BLACK',\n",
    "\n",
    "    'HISPANIC/LATINO - PUERTO RICAN': 'OTHERS',\n",
    "    'AMERICAN INDIAN/ALASKA NATIVE': 'OTHERS',\n",
    "    'ASIAN - CHINESE': 'OTHERS',\n",
    "    'ASIAN - ASIAN INDIAN': 'OTHERS',\n",
    "    'PORTUGUESE': 'OTHERS',\n",
    "    'HISPANIC OR LATINO': 'OTHERS',\n",
    "    'MULTIPLE RACE/ETHNICITY': 'OTHERS',\n",
    "    'ASIAN - SOUTH EAST ASIAN': 'OTHERS',\n",
    "    'NATIVE HAWAIIAN OR OTHER PACIFIC ISLANDER': 'OTHERS',\n",
    "    'ASIAN': 'OTHERS',\n",
    "    'HISPANIC/LATINO - DOMINICAN': 'OTHERS',\n",
    "    'HISPANIC/LATINO - CUBAN': 'OTHERS',\n",
    "    'HISPANIC/LATINO - GUATEMALAN': 'OTHERS',\n",
    "    'HISPANIC/LATINO - MEXICAN': 'OTHERS',\n",
    "    'HISPANIC/LATINO - SALVADORAN': 'OTHERS',\n",
    "    'HISPANIC/LATINO - HONDURAN': 'OTHERS',\n",
    "    'ASIAN - KOREAN': 'OTHERS',\n",
    "    'HISPANIC/LATINO - COLUMBIAN': 'OTHERS',\n",
    "    'OTHER': 'OTHERS'\n",
    "}\n",
    "\n",
    "# Group race categories\n",
    "df_demo['race'] = df_demo['race'].fillna('UNKNOWN')\n",
    "df_demo['race'].replace(race_map, inplace=True)\n",
    "\n",
    "df_cohort['citrate_yn'] = df_cohort['citrate_yn'].apply(lambda x: 1 if x != 0 or math.isnan(x)==False else 0)\n",
    "df_cohort['heparin_yn'] = df_cohort['heparin_yn'].apply(lambda x: 1 if x != 0 or math.isnan(x)==False else 0)\n",
    "\n",
    "# Censor filters with duration > 120 hours\n",
    "df_cohort['crrt_duration_hrs'] = df_cohort['crrt_duration_hrs'].apply(lambda x: 120 if x>120 else x)\n",
    "df_cohort['filter_clotted'] = np.where(df_cohort['crrt_duration_hrs']==120, 0, df_cohort['filter_clotted'])\n",
    "\n",
    "# Get time to first clot\n",
    "df_cohort['time_to_first_clot'] = pd.to_datetime(df_cohort['first_clot_present_time']) - pd.to_datetime(df_cohort['crrt_starttime'])\n",
    "df_cohort['time_to_first_clot'] = (df_cohort['time_to_first_clot'].dt.total_seconds()/3600).round(0)\n"
   ]
  },
  {
   "cell_type": "code",
   "execution_count": 3,
   "id": "b517ea4c",
   "metadata": {},
   "outputs": [],
   "source": [
    "def collate_data(keys, cohort, demo, vital, lab_before, vaso_before):\n",
    "    combined = keys.merge(cohort, how='inner', on=['subject_id', 'stay_id', 'crrt_starttime'])\n",
    "    combined = combined.merge(demo, how='left', on=['subject_id', 'stay_id'])\n",
    "    combined = combined.merge(vital, how='left', on=['stay_id', 'crrt_starttime'])\n",
    "    combined = combined.merge(lab_before, how='left', on=['subject_id', 'stay_id', 'crrt_starttime'])\n",
    "    # combined = combined.merge(vaso_before, how='left', on=['subject_id', 'stay_id', 'crrt_starttime', 'hadm_id'])\n",
    "    return combined"
   ]
  },
  {
   "cell_type": "markdown",
   "id": "1ce78776",
   "metadata": {},
   "source": [
    "## Data collation and analysis"
   ]
  },
  {
   "cell_type": "code",
   "execution_count": 4,
   "id": "514886c4",
   "metadata": {},
   "outputs": [],
   "source": [
    "all_keys = df_cohort[['subject_id', 'stay_id', 'crrt_starttime']]\n",
    "all_merged = collate_data(all_keys, df_cohort, df_demo, df_vital, df_lab_before, df_vasopressor_before)"
   ]
  },
  {
   "cell_type": "markdown",
   "id": "026efa4d",
   "metadata": {},
   "source": [
    "### Get data fields with large number of missing parameters"
   ]
  },
  {
   "cell_type": "code",
   "execution_count": 7,
   "id": "3231f2d1",
   "metadata": {},
   "outputs": [
    {
     "name": "stdout",
     "output_type": "stream",
     "text": [
      "Total records 3281\n"
     ]
    },
    {
     "data": {
      "text/plain": [
       "{'ddimer_before': 3277,\n",
       " 'globulin_before': 3272,\n",
       " 'crp_before': 3266,\n",
       " 'direct_bill_before': 3081,\n",
       " 'troponint_before': 2943,\n",
       " 'albumin_before': 2588,\n",
       " 'fibrinogen_before': 2502,\n",
       " 'dbp_ni_12hrs_after': 2204,\n",
       " 'sbp_ni_12hrs_after': 2204,\n",
       " 'mbp_ni_12hrs_after': 2202,\n",
       " 'alt_before': 1945,\n",
       " 'alp_before': 1937,\n",
       " 'ast_before': 1924,\n",
       " 'dbp_ni_12hrs_before': 1908,\n",
       " 'sbp_ni_12hrs_before': 1908,\n",
       " 'mbp_ni_12hrs_before': 1903,\n",
       " 'total_bill_before': 1899,\n",
       " 'tmp': 1428,\n",
       " 'inr_before': 1094,\n",
       " 'pt_before': 1094,\n",
       " 'first_clot_present_time': 1072,\n",
       " 'time_to_first_clot': 1072,\n",
       " 'ptt_before': 987,\n",
       " 'lactate_before': 765,\n",
       " 'wbc_before': 752,\n",
       " 'platelets_before': 720,\n",
       " 'hematocrit_before': 616,\n",
       " 'postfilter_replacement_rate': 418,\n",
       " 'admit_weight': 349,\n",
       " 'prefilter_replacement_rate': 330,\n",
       " 'temperature_12hrs_after': 294,\n",
       " 'temperature_12hrs_before': 291,\n",
       " 'calcium_before': 245,\n",
       " 'glucose_before': 209,\n",
       " 'sbp_12hrs_after': 192,\n",
       " 'dbp_12hrs_after': 192,\n",
       " 'creatine_before': 178,\n",
       " 'nitrogen_before': 178,\n",
       " 'sbp_12hrs_before': 173,\n",
       " 'dbp_12hrs_before': 173,\n",
       " 'potassium_before': 152,\n",
       " 'bicarbonate_before': 151,\n",
       " 'chlorine_before': 138,\n",
       " 'sodium_before': 137,\n",
       " 'pco2_before': 128,\n",
       " 'po2_before': 128,\n",
       " 'replacement_rate': 68,\n",
       " 'current_goal': 48,\n",
       " 'ph_before': 48,\n",
       " 'dialysate_rate': 37,\n",
       " 'dialysate_fluid': 36,\n",
       " 'spo2_12hrs_before': 30,\n",
       " 'replacement_fluid': 29,\n",
       " 'spo2_12hrs_after': 29,\n",
       " 'ultrafiltrate_output': 29,\n",
       " 'resp_rate_12hrs_before': 28,\n",
       " 'mbp_12hrs_before': 22,\n",
       " 'heart_rate_12hrs_before': 22,\n",
       " 'resp_rate_12hrs_after': 16,\n",
       " 'hourly_patient_fluid_removal': 15,\n",
       " 'blood_flow': 13,\n",
       " 'return_pressure': 11,\n",
       " 'effluent_pressure': 11,\n",
       " 'filter_pressure': 11,\n",
       " 'mbp_12hrs_after': 10,\n",
       " 'heart_rate_12hrs_after': 10,\n",
       " 'access_pressure': 10,\n",
       " 'filter_count': 0,\n",
       " 'status': 0,\n",
       " 'hadm_id': 0,\n",
       " 'crrt_mode': 0,\n",
       " 'crrt_duration_hrs': 0,\n",
       " 'crrt_endtime': 0,\n",
       " 'hadm_id_x': 0,\n",
       " 'Unnamed: 0': 0,\n",
       " 'crrt_starttime': 0,\n",
       " 'was_paused': 0,\n",
       " 'citrate_yn': 0,\n",
       " 'filter_clotted': 0,\n",
       " 'filter_cat': 0,\n",
       " 'heparin_yn': 0,\n",
       " 'hadm_id_y': 0,\n",
       " 'age': 0,\n",
       " 'is_female': 0,\n",
       " 'race': 0,\n",
       " 'stay_id': 0,\n",
       " 'subject_id': 0}"
      ]
     },
     "execution_count": 7,
     "metadata": {},
     "output_type": "execute_result"
    }
   ],
   "source": [
    "print('Total records', len(all_merged))\n",
    "all_merged.isna().sum().sort_values(ascending=False).to_dict()"
   ]
  }
 ],
 "metadata": {
  "kernelspec": {
   "display_name": "Python 3.9.12 ('base')",
   "language": "python",
   "name": "python3"
  },
  "language_info": {
   "codemirror_mode": {
    "name": "ipython",
    "version": 3
   },
   "file_extension": ".py",
   "mimetype": "text/x-python",
   "name": "python",
   "nbconvert_exporter": "python",
   "pygments_lexer": "ipython3",
   "version": "3.9.12"
  },
  "vscode": {
   "interpreter": {
    "hash": "38cca0c38332a56087b24af0bc80247f4fced29cb4f7f437d91dc159adec9c4e"
   }
  }
 },
 "nbformat": 4,
 "nbformat_minor": 5
}
